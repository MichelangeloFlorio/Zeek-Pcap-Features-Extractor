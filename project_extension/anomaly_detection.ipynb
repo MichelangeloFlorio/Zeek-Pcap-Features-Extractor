{
 "cells": [
  {
   "cell_type": "markdown",
   "metadata": {},
   "source": [
    "## Anomaly Exploration (understanding 'Odd')\n",
    "In this notebook we use the ZAT Python module for processing, transformation and anomaly detection on Zeek network data. We have a look at 'normal' HHTP traffic and demonstrate the use of Isolation Forests for anomaly detection. Then, we explore those anomalies with clustering and PCA.\n",
    "\n",
    "**Software**\n",
    "- ZAT: https://github.com/SuperCowPowers/zat\n",
    "- Pandas: https://github.com/pandas-dev/pandas\n",
    "- Scikit-Learn: http://scikit-learn.org/stable/index.html\n",
    "\n",
    "**Techniques**\n",
    "- One Hot Encoding: http://pandas.pydata.org/pandas-docs/stable/generated/pandas.get_dummies.html\n",
    "- Isolation Forest: http://scikit-learn.org/stable/modules/generated/sklearn.ensemble.IsolationForest.html\n",
    "- PCA: http://scikit-learn.org/stable/modules/generated/sklearn.decomposition.PCA.html\n",
    "\n",
    "**Related Notebooks**\n",
    "- Zeek to Scikit-Learn: https://nbviewer.jupyter.org/github/SuperCowPowers/zat/blob/main/notebooks/Zeek_to_Scikit_Learn.ipynb\n",
    "\n",
    "**Note:** This notebook is a version of notebook provide by Jupiter adapted for our aims "
   ]
  },
  {
   "cell_type": "code",
   "execution_count": 1,
   "metadata": {},
   "outputs": [],
   "source": [
    "import zat\n",
    "from zat.log_to_dataframe import LogToDataFrame\n",
    "from zat.dataframe_to_matrix import DataFrameToMatrix\n",
    "import matplotlib.pyplot as plt\n",
    "import pandas as pd\n",
    "import numpy as np\n",
    "import sklearn\n",
    "from sklearn.ensemble import IsolationForest\n",
    "from sklearn.decomposition import PCA\n",
    "from sklearn.cluster import KMeans\n",
    "\n",
    "# print('zat: {:s}'.format(zat.__version__))\n",
    "# print('Pandas: {:s}'.format(pd.__version__))\n",
    "# print('Numpy: {:s}'.format(np.__version__))\n",
    "# print('Scikit Learn Version:', sklearn.__version__)"
   ]
  },
  {
   "cell_type": "code",
   "execution_count": 2,
   "metadata": {},
   "outputs": [
    {
     "name": "stdout",
     "output_type": "stream",
     "text": [
      "Read in 353 Rows...\n"
     ]
    },
    {
     "data": {
      "text/html": [
       "<div>\n",
       "<style scoped>\n",
       "    .dataframe tbody tr th:only-of-type {\n",
       "        vertical-align: middle;\n",
       "    }\n",
       "\n",
       "    .dataframe tbody tr th {\n",
       "        vertical-align: top;\n",
       "    }\n",
       "\n",
       "    .dataframe thead th {\n",
       "        text-align: right;\n",
       "    }\n",
       "</style>\n",
       "<table border=\"1\" class=\"dataframe\">\n",
       "  <thead>\n",
       "    <tr style=\"text-align: right;\">\n",
       "      <th></th>\n",
       "      <th>uid</th>\n",
       "      <th>id.orig_h</th>\n",
       "      <th>id.orig_p</th>\n",
       "      <th>id.resp_h</th>\n",
       "      <th>id.resp_p</th>\n",
       "      <th>proto</th>\n",
       "      <th>service</th>\n",
       "      <th>duration</th>\n",
       "      <th>orig_bytes</th>\n",
       "      <th>resp_bytes</th>\n",
       "      <th>conn_state</th>\n",
       "      <th>local_orig</th>\n",
       "      <th>local_resp</th>\n",
       "      <th>missed_bytes</th>\n",
       "      <th>history</th>\n",
       "      <th>orig_pkts</th>\n",
       "      <th>orig_ip_bytes</th>\n",
       "      <th>resp_pkts</th>\n",
       "      <th>resp_ip_bytes</th>\n",
       "      <th>tunnel_parents</th>\n",
       "    </tr>\n",
       "    <tr>\n",
       "      <th>ts</th>\n",
       "      <th></th>\n",
       "      <th></th>\n",
       "      <th></th>\n",
       "      <th></th>\n",
       "      <th></th>\n",
       "      <th></th>\n",
       "      <th></th>\n",
       "      <th></th>\n",
       "      <th></th>\n",
       "      <th></th>\n",
       "      <th></th>\n",
       "      <th></th>\n",
       "      <th></th>\n",
       "      <th></th>\n",
       "      <th></th>\n",
       "      <th></th>\n",
       "      <th></th>\n",
       "      <th></th>\n",
       "      <th></th>\n",
       "      <th></th>\n",
       "    </tr>\n",
       "  </thead>\n",
       "  <tbody>\n",
       "    <tr>\n",
       "      <th>2023-03-23 02:09:46.409187072</th>\n",
       "      <td>CUOlN1UTtEoKOi27l</td>\n",
       "      <td>fe80::4c50:74ff:fe3d:f004</td>\n",
       "      <td>133</td>\n",
       "      <td>ff02::2</td>\n",
       "      <td>134</td>\n",
       "      <td>icmp</td>\n",
       "      <td>NaN</td>\n",
       "      <td>NaT</td>\n",
       "      <td>&lt;NA&gt;</td>\n",
       "      <td>&lt;NA&gt;</td>\n",
       "      <td>OTH</td>\n",
       "      <td>NaN</td>\n",
       "      <td>NaN</td>\n",
       "      <td>0</td>\n",
       "      <td>NaN</td>\n",
       "      <td>1</td>\n",
       "      <td>56</td>\n",
       "      <td>0</td>\n",
       "      <td>0</td>\n",
       "      <td>NaN</td>\n",
       "    </tr>\n",
       "    <tr>\n",
       "      <th>2023-03-23 02:12:19.978599168</th>\n",
       "      <td>CII3Q33pOb9iSO2549</td>\n",
       "      <td>185.175.0.6</td>\n",
       "      <td>47744</td>\n",
       "      <td>185.175.0.4</td>\n",
       "      <td>1099</td>\n",
       "      <td>tcp</td>\n",
       "      <td>NaN</td>\n",
       "      <td>0 days 00:00:00.012496</td>\n",
       "      <td>208</td>\n",
       "      <td>40</td>\n",
       "      <td>SF</td>\n",
       "      <td>NaN</td>\n",
       "      <td>NaN</td>\n",
       "      <td>0</td>\n",
       "      <td>ShADadFf</td>\n",
       "      <td>7</td>\n",
       "      <td>580</td>\n",
       "      <td>5</td>\n",
       "      <td>308</td>\n",
       "      <td>NaN</td>\n",
       "    </tr>\n",
       "    <tr>\n",
       "      <th>2023-03-23 02:12:38.546516992</th>\n",
       "      <td>CAIiou17CANgTVgByk</td>\n",
       "      <td>185.175.0.6</td>\n",
       "      <td>41852</td>\n",
       "      <td>185.175.0.8</td>\n",
       "      <td>1099</td>\n",
       "      <td>tcp</td>\n",
       "      <td>NaN</td>\n",
       "      <td>0 days 00:00:00.010195</td>\n",
       "      <td>208</td>\n",
       "      <td>40</td>\n",
       "      <td>SF</td>\n",
       "      <td>NaN</td>\n",
       "      <td>NaN</td>\n",
       "      <td>0</td>\n",
       "      <td>ShADadFf</td>\n",
       "      <td>7</td>\n",
       "      <td>580</td>\n",
       "      <td>5</td>\n",
       "      <td>308</td>\n",
       "      <td>NaN</td>\n",
       "    </tr>\n",
       "    <tr>\n",
       "      <th>2023-03-23 02:12:38.636475136</th>\n",
       "      <td>CgcKpr4m8MF6s0pFCc</td>\n",
       "      <td>185.175.0.6</td>\n",
       "      <td>41864</td>\n",
       "      <td>185.175.0.8</td>\n",
       "      <td>1099</td>\n",
       "      <td>tcp</td>\n",
       "      <td>NaN</td>\n",
       "      <td>0 days 00:02:22.223653</td>\n",
       "      <td>700</td>\n",
       "      <td>19</td>\n",
       "      <td>SF</td>\n",
       "      <td>NaN</td>\n",
       "      <td>NaN</td>\n",
       "      <td>0</td>\n",
       "      <td>ShADadFf</td>\n",
       "      <td>6</td>\n",
       "      <td>1020</td>\n",
       "      <td>4</td>\n",
       "      <td>235</td>\n",
       "      <td>NaN</td>\n",
       "    </tr>\n",
       "    <tr>\n",
       "      <th>2023-03-23 02:12:20.052408832</th>\n",
       "      <td>Cxw3PGKoXSIyxGT4e</td>\n",
       "      <td>185.175.0.6</td>\n",
       "      <td>47768</td>\n",
       "      <td>185.175.0.4</td>\n",
       "      <td>1099</td>\n",
       "      <td>tcp</td>\n",
       "      <td>NaN</td>\n",
       "      <td>0 days 00:02:40.807858</td>\n",
       "      <td>700</td>\n",
       "      <td>19</td>\n",
       "      <td>SF</td>\n",
       "      <td>NaN</td>\n",
       "      <td>NaN</td>\n",
       "      <td>0</td>\n",
       "      <td>ShADadFf</td>\n",
       "      <td>6</td>\n",
       "      <td>1020</td>\n",
       "      <td>4</td>\n",
       "      <td>235</td>\n",
       "      <td>NaN</td>\n",
       "    </tr>\n",
       "  </tbody>\n",
       "</table>\n",
       "</div>"
      ],
      "text/plain": [
       "                                              uid                  id.orig_h  \\\n",
       "ts                                                                             \n",
       "2023-03-23 02:09:46.409187072   CUOlN1UTtEoKOi27l  fe80::4c50:74ff:fe3d:f004   \n",
       "2023-03-23 02:12:19.978599168  CII3Q33pOb9iSO2549                185.175.0.6   \n",
       "2023-03-23 02:12:38.546516992  CAIiou17CANgTVgByk                185.175.0.6   \n",
       "2023-03-23 02:12:38.636475136  CgcKpr4m8MF6s0pFCc                185.175.0.6   \n",
       "2023-03-23 02:12:20.052408832   Cxw3PGKoXSIyxGT4e                185.175.0.6   \n",
       "\n",
       "                               id.orig_p    id.resp_h  id.resp_p proto  \\\n",
       "ts                                                                       \n",
       "2023-03-23 02:09:46.409187072        133      ff02::2        134  icmp   \n",
       "2023-03-23 02:12:19.978599168      47744  185.175.0.4       1099   tcp   \n",
       "2023-03-23 02:12:38.546516992      41852  185.175.0.8       1099   tcp   \n",
       "2023-03-23 02:12:38.636475136      41864  185.175.0.8       1099   tcp   \n",
       "2023-03-23 02:12:20.052408832      47768  185.175.0.4       1099   tcp   \n",
       "\n",
       "                              service               duration  orig_bytes  \\\n",
       "ts                                                                         \n",
       "2023-03-23 02:09:46.409187072     NaN                    NaT        <NA>   \n",
       "2023-03-23 02:12:19.978599168     NaN 0 days 00:00:00.012496         208   \n",
       "2023-03-23 02:12:38.546516992     NaN 0 days 00:00:00.010195         208   \n",
       "2023-03-23 02:12:38.636475136     NaN 0 days 00:02:22.223653         700   \n",
       "2023-03-23 02:12:20.052408832     NaN 0 days 00:02:40.807858         700   \n",
       "\n",
       "                               resp_bytes conn_state local_orig local_resp  \\\n",
       "ts                                                                           \n",
       "2023-03-23 02:09:46.409187072        <NA>        OTH        NaN        NaN   \n",
       "2023-03-23 02:12:19.978599168          40         SF        NaN        NaN   \n",
       "2023-03-23 02:12:38.546516992          40         SF        NaN        NaN   \n",
       "2023-03-23 02:12:38.636475136          19         SF        NaN        NaN   \n",
       "2023-03-23 02:12:20.052408832          19         SF        NaN        NaN   \n",
       "\n",
       "                               missed_bytes   history  orig_pkts  \\\n",
       "ts                                                                 \n",
       "2023-03-23 02:09:46.409187072             0       NaN          1   \n",
       "2023-03-23 02:12:19.978599168             0  ShADadFf          7   \n",
       "2023-03-23 02:12:38.546516992             0  ShADadFf          7   \n",
       "2023-03-23 02:12:38.636475136             0  ShADadFf          6   \n",
       "2023-03-23 02:12:20.052408832             0  ShADadFf          6   \n",
       "\n",
       "                               orig_ip_bytes  resp_pkts  resp_ip_bytes  \\\n",
       "ts                                                                       \n",
       "2023-03-23 02:09:46.409187072             56          0              0   \n",
       "2023-03-23 02:12:19.978599168            580          5            308   \n",
       "2023-03-23 02:12:38.546516992            580          5            308   \n",
       "2023-03-23 02:12:38.636475136           1020          4            235   \n",
       "2023-03-23 02:12:20.052408832           1020          4            235   \n",
       "\n",
       "                              tunnel_parents  \n",
       "ts                                            \n",
       "2023-03-23 02:09:46.409187072            NaN  \n",
       "2023-03-23 02:12:19.978599168            NaN  \n",
       "2023-03-23 02:12:38.546516992            NaN  \n",
       "2023-03-23 02:12:38.636475136            NaN  \n",
       "2023-03-23 02:12:20.052408832            NaN  "
      ]
     },
     "execution_count": 2,
     "metadata": {},
     "output_type": "execute_result"
    }
   ],
   "source": [
    "# Create a Pandas dataframe from a Zeek log\n",
    "log_to_df = LogToDataFrame()\n",
    "# zeek_df = log_to_df.create_dataframe('dns.log')\n",
    "zeek_df = log_to_df.create_dataframe('conn.log')\n",
    "print('Read in {:d} Rows...'.format(len(zeek_df)))\n",
    "zeek_df.head()"
   ]
  },
  {
   "cell_type": "markdown",
   "metadata": {},
   "source": [
    "**The code above turned a Zeek log (any log) into a Pandas DataFrame. The ZAT package also supports streaming data from dynamic/active logs, handles log rotations and in general tries to make your life a bit easier when doing data analysis and machine learning on Zeek data.**\n",
    "\n",
    "**Now that we have the data in a dataframe, we could analyse in many ways for data munging and processing.**"
   ]
  },
  {
   "cell_type": "code",
   "execution_count": 3,
   "metadata": {},
   "outputs": [
    {
     "data": {
      "text/plain": [
       "['id.resp_p', 'proto', 'duration', 'orig_bytes', 'history', 'id.orig_p']"
      ]
     },
     "execution_count": 3,
     "metadata": {},
     "output_type": "execute_result"
    }
   ],
   "source": [
    "# We're going to pick some features that might be interesting\n",
    "# some of the features are numerical and some are categorical\n",
    "# features = ['id.resp_p', 'method', 'resp_mime_types', 'request_body_len'] ##http\n",
    "features = ['id.resp_p', 'proto', 'duration', 'orig_bytes', 'history', 'id.orig_p'] ##dns\n",
    "features ##print features"
   ]
  },
  {
   "cell_type": "markdown",
   "metadata": {},
   "source": [
    "## If the features are a mix of numeric and categorical data\n",
    "When we look at the HTTP records, some of the data is numerical and some is categorical, so we need a way to handle both data types in a generalized way. ZAT has a DataFrameToMatrix class that deals with a lot of the details and mechanics of combining numerical and categorical data and we make use of it below."
   ]
  },
  {
   "cell_type": "code",
   "execution_count": 4,
   "metadata": {},
   "outputs": [
    {
     "data": {
      "text/html": [
       "<div>\n",
       "<style scoped>\n",
       "    .dataframe tbody tr th:only-of-type {\n",
       "        vertical-align: middle;\n",
       "    }\n",
       "\n",
       "    .dataframe tbody tr th {\n",
       "        vertical-align: top;\n",
       "    }\n",
       "\n",
       "    .dataframe thead th {\n",
       "        text-align: right;\n",
       "    }\n",
       "</style>\n",
       "<table border=\"1\" class=\"dataframe\">\n",
       "  <thead>\n",
       "    <tr style=\"text-align: right;\">\n",
       "      <th></th>\n",
       "      <th>id.resp_p</th>\n",
       "      <th>proto</th>\n",
       "      <th>duration</th>\n",
       "      <th>orig_bytes</th>\n",
       "      <th>history</th>\n",
       "      <th>id.orig_p</th>\n",
       "    </tr>\n",
       "    <tr>\n",
       "      <th>ts</th>\n",
       "      <th></th>\n",
       "      <th></th>\n",
       "      <th></th>\n",
       "      <th></th>\n",
       "      <th></th>\n",
       "      <th></th>\n",
       "    </tr>\n",
       "  </thead>\n",
       "  <tbody>\n",
       "    <tr>\n",
       "      <th>2023-03-23 02:09:46.409187072</th>\n",
       "      <td>134</td>\n",
       "      <td>icmp</td>\n",
       "      <td>NaT</td>\n",
       "      <td>&lt;NA&gt;</td>\n",
       "      <td>NaN</td>\n",
       "      <td>133</td>\n",
       "    </tr>\n",
       "    <tr>\n",
       "      <th>2023-03-23 02:12:19.978599168</th>\n",
       "      <td>1099</td>\n",
       "      <td>tcp</td>\n",
       "      <td>0 days 00:00:00.012496</td>\n",
       "      <td>208</td>\n",
       "      <td>ShADadFf</td>\n",
       "      <td>47744</td>\n",
       "    </tr>\n",
       "    <tr>\n",
       "      <th>2023-03-23 02:12:38.546516992</th>\n",
       "      <td>1099</td>\n",
       "      <td>tcp</td>\n",
       "      <td>0 days 00:00:00.010195</td>\n",
       "      <td>208</td>\n",
       "      <td>ShADadFf</td>\n",
       "      <td>41852</td>\n",
       "    </tr>\n",
       "    <tr>\n",
       "      <th>2023-03-23 02:12:38.636475136</th>\n",
       "      <td>1099</td>\n",
       "      <td>tcp</td>\n",
       "      <td>0 days 00:02:22.223653</td>\n",
       "      <td>700</td>\n",
       "      <td>ShADadFf</td>\n",
       "      <td>41864</td>\n",
       "    </tr>\n",
       "    <tr>\n",
       "      <th>2023-03-23 02:12:20.052408832</th>\n",
       "      <td>1099</td>\n",
       "      <td>tcp</td>\n",
       "      <td>0 days 00:02:40.807858</td>\n",
       "      <td>700</td>\n",
       "      <td>ShADadFf</td>\n",
       "      <td>47768</td>\n",
       "    </tr>\n",
       "  </tbody>\n",
       "</table>\n",
       "</div>"
      ],
      "text/plain": [
       "                               id.resp_p proto               duration  \\\n",
       "ts                                                                      \n",
       "2023-03-23 02:09:46.409187072        134  icmp                    NaT   \n",
       "2023-03-23 02:12:19.978599168       1099   tcp 0 days 00:00:00.012496   \n",
       "2023-03-23 02:12:38.546516992       1099   tcp 0 days 00:00:00.010195   \n",
       "2023-03-23 02:12:38.636475136       1099   tcp 0 days 00:02:22.223653   \n",
       "2023-03-23 02:12:20.052408832       1099   tcp 0 days 00:02:40.807858   \n",
       "\n",
       "                               orig_bytes   history  id.orig_p  \n",
       "ts                                                              \n",
       "2023-03-23 02:09:46.409187072        <NA>       NaN        133  \n",
       "2023-03-23 02:12:19.978599168         208  ShADadFf      47744  \n",
       "2023-03-23 02:12:38.546516992         208  ShADadFf      41852  \n",
       "2023-03-23 02:12:38.636475136         700  ShADadFf      41864  \n",
       "2023-03-23 02:12:20.052408832         700  ShADadFf      47768  "
      ]
     },
     "execution_count": 4,
     "metadata": {},
     "output_type": "execute_result"
    }
   ],
   "source": [
    "# Show the dataframe with mixed feature types\n",
    "zeek_df[features].head()"
   ]
  },
  {
   "cell_type": "markdown",
   "metadata": {},
   "source": [
    "\n",
    "## Transformers\n",
    "**After that, we use a scikit-learn tranformer class to convert the Pandas DataFrame to a numpy ndarray (matrix).**"
   ]
  },
  {
   "cell_type": "code",
   "execution_count": 5,
   "metadata": {},
   "outputs": [],
   "source": [
    "# This is an optional part that can be used to print out the number of rows and columns\n",
    "# print(zeek_df[features].shape)\n",
    "# print(zeek_df['history'].shape)\n",
    "# print(zeek_df['history'].dropna().shape)\n",
    "# print(zeek_df[features].dropna(subset=['history']).shape)\n",
    "# print(zeek_df[features].dropna().shape)"
   ]
  },
  {
   "cell_type": "code",
   "execution_count": 6,
   "metadata": {},
   "outputs": [
    {
     "name": "stdout",
     "output_type": "stream",
     "text": [
      "Normalizing column id.resp_p...\n",
      "Normalizing column duration...\n",
      "Normalizing column orig_bytes...\n",
      "Normalizing column id.orig_p...\n",
      "(323, 14)\n"
     ]
    },
    {
     "data": {
      "text/plain": [
       "array([[1.2634386e-02, 1.1570556e-07, 4.5025395e-06, 8.1010437e-01,\n",
       "        1.0000000e+00, 0.0000000e+00, 0.0000000e+00, 0.0000000e+00,\n",
       "        0.0000000e+00, 0.0000000e+00, 0.0000000e+00, 0.0000000e+00,\n",
       "        1.0000000e+00, 0.0000000e+00]], dtype=float32)"
      ]
     },
     "execution_count": 6,
     "metadata": {},
     "output_type": "execute_result"
    }
   ],
   "source": [
    "# Use the ZAT DataframeToMatrix class (handles categorical data)\n",
    "# You can see below it uses a heuristic to detect category data. When doing this, we should explicitly convert before sending to the transformer.\n",
    "to_matrix = DataFrameToMatrix()\n",
    "zeek_matrix = to_matrix.fit_transform(zeek_df[features].dropna(subset=['history']), normalize=True) # the dropna method is necessary to drop out the NaN value that are not useful for our purposes\n",
    "# zeek_matrix = to_matrix.fit_transform(zeek_df[features].dropna(inplace=True), normalize=True) ##alternative\n",
    "print(zeek_matrix.shape)\n",
    "zeek_matrix[:1]"
   ]
  },
  {
   "cell_type": "code",
   "execution_count": 7,
   "metadata": {},
   "outputs": [
    {
     "data": {
      "text/html": [
       "<style>#sk-container-id-1 {color: black;}#sk-container-id-1 pre{padding: 0;}#sk-container-id-1 div.sk-toggleable {background-color: white;}#sk-container-id-1 label.sk-toggleable__label {cursor: pointer;display: block;width: 100%;margin-bottom: 0;padding: 0.3em;box-sizing: border-box;text-align: center;}#sk-container-id-1 label.sk-toggleable__label-arrow:before {content: \"▸\";float: left;margin-right: 0.25em;color: #696969;}#sk-container-id-1 label.sk-toggleable__label-arrow:hover:before {color: black;}#sk-container-id-1 div.sk-estimator:hover label.sk-toggleable__label-arrow:before {color: black;}#sk-container-id-1 div.sk-toggleable__content {max-height: 0;max-width: 0;overflow: hidden;text-align: left;background-color: #f0f8ff;}#sk-container-id-1 div.sk-toggleable__content pre {margin: 0.2em;color: black;border-radius: 0.25em;background-color: #f0f8ff;}#sk-container-id-1 input.sk-toggleable__control:checked~div.sk-toggleable__content {max-height: 200px;max-width: 100%;overflow: auto;}#sk-container-id-1 input.sk-toggleable__control:checked~label.sk-toggleable__label-arrow:before {content: \"▾\";}#sk-container-id-1 div.sk-estimator input.sk-toggleable__control:checked~label.sk-toggleable__label {background-color: #d4ebff;}#sk-container-id-1 div.sk-label input.sk-toggleable__control:checked~label.sk-toggleable__label {background-color: #d4ebff;}#sk-container-id-1 input.sk-hidden--visually {border: 0;clip: rect(1px 1px 1px 1px);clip: rect(1px, 1px, 1px, 1px);height: 1px;margin: -1px;overflow: hidden;padding: 0;position: absolute;width: 1px;}#sk-container-id-1 div.sk-estimator {font-family: monospace;background-color: #f0f8ff;border: 1px dotted black;border-radius: 0.25em;box-sizing: border-box;margin-bottom: 0.5em;}#sk-container-id-1 div.sk-estimator:hover {background-color: #d4ebff;}#sk-container-id-1 div.sk-parallel-item::after {content: \"\";width: 100%;border-bottom: 1px solid gray;flex-grow: 1;}#sk-container-id-1 div.sk-label:hover label.sk-toggleable__label {background-color: #d4ebff;}#sk-container-id-1 div.sk-serial::before {content: \"\";position: absolute;border-left: 1px solid gray;box-sizing: border-box;top: 0;bottom: 0;left: 50%;z-index: 0;}#sk-container-id-1 div.sk-serial {display: flex;flex-direction: column;align-items: center;background-color: white;padding-right: 0.2em;padding-left: 0.2em;position: relative;}#sk-container-id-1 div.sk-item {position: relative;z-index: 1;}#sk-container-id-1 div.sk-parallel {display: flex;align-items: stretch;justify-content: center;background-color: white;position: relative;}#sk-container-id-1 div.sk-item::before, #sk-container-id-1 div.sk-parallel-item::before {content: \"\";position: absolute;border-left: 1px solid gray;box-sizing: border-box;top: 0;bottom: 0;left: 50%;z-index: -1;}#sk-container-id-1 div.sk-parallel-item {display: flex;flex-direction: column;z-index: 1;position: relative;background-color: white;}#sk-container-id-1 div.sk-parallel-item:first-child::after {align-self: flex-end;width: 50%;}#sk-container-id-1 div.sk-parallel-item:last-child::after {align-self: flex-start;width: 50%;}#sk-container-id-1 div.sk-parallel-item:only-child::after {width: 0;}#sk-container-id-1 div.sk-dashed-wrapped {border: 1px dashed gray;margin: 0 0.4em 0.5em 0.4em;box-sizing: border-box;padding-bottom: 0.4em;background-color: white;}#sk-container-id-1 div.sk-label label {font-family: monospace;font-weight: bold;display: inline-block;line-height: 1.2em;}#sk-container-id-1 div.sk-label-container {text-align: center;}#sk-container-id-1 div.sk-container {/* jupyter's `normalize.less` sets `[hidden] { display: none; }` but bootstrap.min.css set `[hidden] { display: none !important; }` so we also need the `!important` here to be able to override the default hidden behavior on the sphinx rendered scikit-learn.org. See: https://github.com/scikit-learn/scikit-learn/issues/21755 */display: inline-block !important;position: relative;}#sk-container-id-1 div.sk-text-repr-fallback {display: none;}</style><div id=\"sk-container-id-1\" class=\"sk-top-container\"><div class=\"sk-text-repr-fallback\"><pre>IsolationForest(contamination=0.25)</pre><b>In a Jupyter environment, please rerun this cell to show the HTML representation or trust the notebook. <br />On GitHub, the HTML representation is unable to render, please try loading this page with nbviewer.org.</b></div><div class=\"sk-container\" hidden><div class=\"sk-item\"><div class=\"sk-estimator sk-toggleable\"><input class=\"sk-toggleable__control sk-hidden--visually\" id=\"sk-estimator-id-1\" type=\"checkbox\" checked><label for=\"sk-estimator-id-1\" class=\"sk-toggleable__label sk-toggleable__label-arrow\">IsolationForest</label><div class=\"sk-toggleable__content\"><pre>IsolationForest(contamination=0.25)</pre></div></div></div></div></div>"
      ],
      "text/plain": [
       "IsolationForest(contamination=0.25)"
      ]
     },
     "execution_count": 7,
     "metadata": {},
     "output_type": "execute_result"
    }
   ],
   "source": [
    "# Train/fit and Predict anomalous instances using the Isolation Forest model\n",
    "odd_clf = IsolationForest(contamination=0.25) # Marking 25% odd, this percentage can be changed, for example 0.35. The upper bound of range is 0.5\n",
    "odd_clf.fit(zeek_matrix)"
   ]
  },
  {
   "cell_type": "code",
   "execution_count": 8,
   "metadata": {},
   "outputs": [
    {
     "name": "stdout",
     "output_type": "stream",
     "text": [
      "(49, 6)\n"
     ]
    },
    {
     "data": {
      "text/html": [
       "<div>\n",
       "<style scoped>\n",
       "    .dataframe tbody tr th:only-of-type {\n",
       "        vertical-align: middle;\n",
       "    }\n",
       "\n",
       "    .dataframe tbody tr th {\n",
       "        vertical-align: top;\n",
       "    }\n",
       "\n",
       "    .dataframe thead th {\n",
       "        text-align: right;\n",
       "    }\n",
       "</style>\n",
       "<table border=\"1\" class=\"dataframe\">\n",
       "  <thead>\n",
       "    <tr style=\"text-align: right;\">\n",
       "      <th></th>\n",
       "      <th>id.resp_p</th>\n",
       "      <th>proto</th>\n",
       "      <th>duration</th>\n",
       "      <th>orig_bytes</th>\n",
       "      <th>history</th>\n",
       "      <th>id.orig_p</th>\n",
       "    </tr>\n",
       "    <tr>\n",
       "      <th>ts</th>\n",
       "      <th></th>\n",
       "      <th></th>\n",
       "      <th></th>\n",
       "      <th></th>\n",
       "      <th></th>\n",
       "      <th></th>\n",
       "    </tr>\n",
       "  </thead>\n",
       "  <tbody>\n",
       "    <tr>\n",
       "      <th>2023-03-23 02:12:19.978599168</th>\n",
       "      <td>1099</td>\n",
       "      <td>tcp</td>\n",
       "      <td>0 days 00:00:00.012496</td>\n",
       "      <td>208</td>\n",
       "      <td>ShADadFf</td>\n",
       "      <td>47744</td>\n",
       "    </tr>\n",
       "    <tr>\n",
       "      <th>2023-03-23 02:12:38.546516992</th>\n",
       "      <td>1099</td>\n",
       "      <td>tcp</td>\n",
       "      <td>0 days 00:00:00.010195</td>\n",
       "      <td>208</td>\n",
       "      <td>ShADadFf</td>\n",
       "      <td>41852</td>\n",
       "    </tr>\n",
       "    <tr>\n",
       "      <th>2023-03-23 02:12:38.636475136</th>\n",
       "      <td>1099</td>\n",
       "      <td>tcp</td>\n",
       "      <td>0 days 00:02:22.223653</td>\n",
       "      <td>700</td>\n",
       "      <td>ShADadFf</td>\n",
       "      <td>41864</td>\n",
       "    </tr>\n",
       "    <tr>\n",
       "      <th>2023-03-23 02:12:20.052408832</th>\n",
       "      <td>1099</td>\n",
       "      <td>tcp</td>\n",
       "      <td>0 days 00:02:40.807858</td>\n",
       "      <td>700</td>\n",
       "      <td>ShADadFf</td>\n",
       "      <td>47768</td>\n",
       "    </tr>\n",
       "    <tr>\n",
       "      <th>2023-03-23 02:12:20.033457152</th>\n",
       "      <td>1099</td>\n",
       "      <td>tcp</td>\n",
       "      <td>0 days 00:02:59.838241</td>\n",
       "      <td>939</td>\n",
       "      <td>ShADadFf</td>\n",
       "      <td>57138</td>\n",
       "    </tr>\n",
       "  </tbody>\n",
       "</table>\n",
       "</div>"
      ],
      "text/plain": [
       "                               id.resp_p proto               duration  \\\n",
       "ts                                                                      \n",
       "2023-03-23 02:12:19.978599168       1099   tcp 0 days 00:00:00.012496   \n",
       "2023-03-23 02:12:38.546516992       1099   tcp 0 days 00:00:00.010195   \n",
       "2023-03-23 02:12:38.636475136       1099   tcp 0 days 00:02:22.223653   \n",
       "2023-03-23 02:12:20.052408832       1099   tcp 0 days 00:02:40.807858   \n",
       "2023-03-23 02:12:20.033457152       1099   tcp 0 days 00:02:59.838241   \n",
       "\n",
       "                               orig_bytes   history  id.orig_p  \n",
       "ts                                                              \n",
       "2023-03-23 02:12:19.978599168         208  ShADadFf      47744  \n",
       "2023-03-23 02:12:38.546516992         208  ShADadFf      41852  \n",
       "2023-03-23 02:12:38.636475136         700  ShADadFf      41864  \n",
       "2023-03-23 02:12:20.052408832         700  ShADadFf      47768  \n",
       "2023-03-23 02:12:20.033457152         939  ShADadFf      57138  "
      ]
     },
     "execution_count": 8,
     "metadata": {},
     "output_type": "execute_result"
    }
   ],
   "source": [
    "# Now we create a new dataframe using the prediction from our classifier\n",
    "\n",
    "# DEBUG\n",
    "# print(zeek_df[features].shape)\n",
    "# print(zeek_matrix.shape)\n",
    "\n",
    "odd_df = zeek_df[features].dropna(subset=['history'])[odd_clf.predict(zeek_matrix) == -1] ##Dropna is compulsory in this example\n",
    "print(odd_df.shape)\n",
    "odd_df.head()"
   ]
  },
  {
   "cell_type": "code",
   "execution_count": 9,
   "metadata": {},
   "outputs": [
    {
     "name": "stdout",
     "output_type": "stream",
     "text": [
      "Normalizing column id.resp_p...\n",
      "Normalizing column duration...\n",
      "Normalizing column orig_bytes...\n",
      "Normalizing column id.orig_p...\n"
     ]
    }
   ],
   "source": [
    "# Now we're going to explore our odd dataframe with help from KMeans and PCA algorithms\n",
    "odd_matrix = to_matrix.fit_transform(odd_df)"
   ]
  },
  {
   "cell_type": "markdown",
   "metadata": {},
   "source": [
    "## Optional\n"
   ]
  },
  {
   "cell_type": "code",
   "execution_count": 10,
   "metadata": {},
   "outputs": [],
   "source": [
    "from sklearn.model_selection import ParameterGrid\n",
    "from sklearn.metrics import silhouette_score\n",
    "import warnings\n",
    "warnings.filterwarnings(\"ignore\")\n",
    "random_state = 42\n",
    "# features1 = ['id.resp_p', 'orig_ip_bytes'] # conn.log\n",
    "features1 = ['id.resp_p', 'orig_bytes', 'id.orig_p'] # dns.log\n",
    "\n",
    "k_range = list(range(2, 11)) # set the range of k values to test, from 2 to 10 (11-1)\n",
    "inertias_km = [] # result list that will contain inertias\n",
    "silhouette_score_km = [] # result list that will contain silhouette_scores\n",
    "parameters_km = [{'n_clusters': k_range}]\n",
    "pg_km = list(ParameterGrid(parameters_km))\n",
    "\n",
    "for i in range(len(pg_km)):\n",
    "    # print(pg_km[i].get('n_clusters'))\n",
    "    estimatorKM = KMeans(**(pg_km[i]), random_state = random_state)\n",
    "    # y_km = estimatorKM.fit_predict(zeek_df[features1])\n",
    "    y_km = estimatorKM.fit_predict(zeek_df[features1].dropna(subset = 'orig_bytes'))\n",
    "\n",
    "    inertias_km.append(estimatorKM.inertia_)\n",
    "    silhouette_score_km.append(silhouette_score(zeek_df[features1].dropna(subset = 'orig_bytes'), y_km))"
   ]
  },
  {
   "cell_type": "code",
   "execution_count": 11,
   "metadata": {},
   "outputs": [
    {
     "data": {
      "image/png": "[encoded data removed]",
      "text/plain": [
       "<Figure size 640x480 with 2 Axes>"
      ]
     },
     "metadata": {},
     "output_type": "display_data"
    }
   ],
   "source": [
    "# def two_plots(x, y1, y2, xlabel, y1label, y2label):\n",
    "fig, ax1 = plt.subplots()\n",
    "plt.suptitle(\"Plotting inertia and silhoutte_score versus k\")\n",
    "color = 'tab:red'\n",
    "ax1.set_xlabel('Number of clusters (k_range)')\n",
    "ax1.set_ylabel('Inertias', color = color)\n",
    "ax1.plot(k_range, inertias_km, color = color)\n",
    "ax1.tick_params(axis = 'y', labelcolor = color)\n",
    "\n",
    "ax2 = ax1.twinx() # instantiate a second axes that shares the same x-axis\n",
    "\n",
    "color = 'tab:blue'\n",
    "ax2.set_ylabel('Silhouette scores', color = color) # we already handled the x-label with ax1\n",
    "ax2.plot(k_range, silhouette_score_km, color = color)\n",
    "ax2.tick_params(axis = 'y', labelcolor = color)\n",
    "ax2.set_ylim(0, 1) # the axis for silhouette is [0, 1]\n",
    "\n",
    "fig.tight_layout() # otherwise the right y-label is slightly clipped\n",
    "plt.show()"
   ]
  },
  {
   "cell_type": "code",
   "execution_count": 12,
   "metadata": {},
   "outputs": [
    {
     "name": "stdout",
     "output_type": "stream",
     "text": [
      "2\n"
     ]
    }
   ],
   "source": [
    "k = np.argmax(silhouette_score_km) + 2 # +2 because the list of k_range starts with 2\n",
    "print(k)"
   ]
  },
  {
   "cell_type": "markdown",
   "metadata": {},
   "source": [
    "## K-Means algorithm and PCA technique"
   ]
  },
  {
   "cell_type": "code",
   "execution_count": 13,
   "metadata": {},
   "outputs": [
    {
     "data": {
      "text/html": [
       "<div>\n",
       "<style scoped>\n",
       "    .dataframe tbody tr th:only-of-type {\n",
       "        vertical-align: middle;\n",
       "    }\n",
       "\n",
       "    .dataframe tbody tr th {\n",
       "        vertical-align: top;\n",
       "    }\n",
       "\n",
       "    .dataframe thead th {\n",
       "        text-align: right;\n",
       "    }\n",
       "</style>\n",
       "<table border=\"1\" class=\"dataframe\">\n",
       "  <thead>\n",
       "    <tr style=\"text-align: right;\">\n",
       "      <th></th>\n",
       "      <th>id.resp_p</th>\n",
       "      <th>proto</th>\n",
       "      <th>duration</th>\n",
       "      <th>orig_bytes</th>\n",
       "      <th>history</th>\n",
       "      <th>id.orig_p</th>\n",
       "      <th>x</th>\n",
       "      <th>y</th>\n",
       "      <th>cluster</th>\n",
       "    </tr>\n",
       "    <tr>\n",
       "      <th>ts</th>\n",
       "      <th></th>\n",
       "      <th></th>\n",
       "      <th></th>\n",
       "      <th></th>\n",
       "      <th></th>\n",
       "      <th></th>\n",
       "      <th></th>\n",
       "      <th></th>\n",
       "      <th></th>\n",
       "    </tr>\n",
       "  </thead>\n",
       "  <tbody>\n",
       "    <tr>\n",
       "      <th>2023-03-23 02:12:19.978599168</th>\n",
       "      <td>1099</td>\n",
       "      <td>tcp</td>\n",
       "      <td>0 days 00:00:00.012496</td>\n",
       "      <td>208</td>\n",
       "      <td>ShADadFf</td>\n",
       "      <td>47744</td>\n",
       "      <td>-28.773203</td>\n",
       "      <td>-0.282644</td>\n",
       "      <td>0</td>\n",
       "    </tr>\n",
       "    <tr>\n",
       "      <th>2023-03-23 02:12:38.546516992</th>\n",
       "      <td>1099</td>\n",
       "      <td>tcp</td>\n",
       "      <td>0 days 00:00:00.010195</td>\n",
       "      <td>208</td>\n",
       "      <td>ShADadFf</td>\n",
       "      <td>41852</td>\n",
       "      <td>-28.773258</td>\n",
       "      <td>-0.263141</td>\n",
       "      <td>0</td>\n",
       "    </tr>\n",
       "    <tr>\n",
       "      <th>2023-03-23 02:12:38.636475136</th>\n",
       "      <td>1099</td>\n",
       "      <td>tcp</td>\n",
       "      <td>0 days 00:02:22.223653</td>\n",
       "      <td>700</td>\n",
       "      <td>ShADadFf</td>\n",
       "      <td>41864</td>\n",
       "      <td>-28.774149</td>\n",
       "      <td>-0.263181</td>\n",
       "      <td>0</td>\n",
       "    </tr>\n",
       "    <tr>\n",
       "      <th>2023-03-23 02:12:20.052408832</th>\n",
       "      <td>1099</td>\n",
       "      <td>tcp</td>\n",
       "      <td>0 days 00:02:40.807858</td>\n",
       "      <td>700</td>\n",
       "      <td>ShADadFf</td>\n",
       "      <td>47768</td>\n",
       "      <td>-28.774263</td>\n",
       "      <td>-0.282725</td>\n",
       "      <td>0</td>\n",
       "    </tr>\n",
       "    <tr>\n",
       "      <th>2023-03-23 02:12:20.033457152</th>\n",
       "      <td>1099</td>\n",
       "      <td>tcp</td>\n",
       "      <td>0 days 00:02:59.838241</td>\n",
       "      <td>939</td>\n",
       "      <td>ShADadFf</td>\n",
       "      <td>57138</td>\n",
       "      <td>-28.774387</td>\n",
       "      <td>-0.313741</td>\n",
       "      <td>0</td>\n",
       "    </tr>\n",
       "  </tbody>\n",
       "</table>\n",
       "</div>"
      ],
      "text/plain": [
       "                               id.resp_p proto               duration  \\\n",
       "ts                                                                      \n",
       "2023-03-23 02:12:19.978599168       1099   tcp 0 days 00:00:00.012496   \n",
       "2023-03-23 02:12:38.546516992       1099   tcp 0 days 00:00:00.010195   \n",
       "2023-03-23 02:12:38.636475136       1099   tcp 0 days 00:02:22.223653   \n",
       "2023-03-23 02:12:20.052408832       1099   tcp 0 days 00:02:40.807858   \n",
       "2023-03-23 02:12:20.033457152       1099   tcp 0 days 00:02:59.838241   \n",
       "\n",
       "                               orig_bytes   history  id.orig_p          x  \\\n",
       "ts                                                                          \n",
       "2023-03-23 02:12:19.978599168         208  ShADadFf      47744 -28.773203   \n",
       "2023-03-23 02:12:38.546516992         208  ShADadFf      41852 -28.773258   \n",
       "2023-03-23 02:12:38.636475136         700  ShADadFf      41864 -28.774149   \n",
       "2023-03-23 02:12:20.052408832         700  ShADadFf      47768 -28.774263   \n",
       "2023-03-23 02:12:20.033457152         939  ShADadFf      57138 -28.774387   \n",
       "\n",
       "                                      y  cluster  \n",
       "ts                                                \n",
       "2023-03-23 02:12:19.978599168 -0.282644        0  \n",
       "2023-03-23 02:12:38.546516992 -0.263141        0  \n",
       "2023-03-23 02:12:38.636475136 -0.263181        0  \n",
       "2023-03-23 02:12:20.052408832 -0.282725        0  \n",
       "2023-03-23 02:12:20.033457152 -0.313741        0  "
      ]
     },
     "execution_count": 13,
     "metadata": {},
     "output_type": "execute_result"
    }
   ],
   "source": [
    "# K-Means and PCA\n",
    "kmeans = KMeans(n_clusters=3).fit_predict(odd_matrix)\n",
    "pca = PCA(n_components=3).fit_transform(odd_matrix)\n",
    "\n",
    "# Now we can put our ML results back onto our dataframe\n",
    "odd_df['x'] = pca[:, 0] # PCA X Column\n",
    "odd_df['y'] = pca[:, 1] # PCA Y Column\n",
    "odd_df['cluster'] = kmeans\n",
    "odd_df.head()"
   ]
  },
  {
   "cell_type": "code",
   "execution_count": 14,
   "metadata": {},
   "outputs": [],
   "source": [
    "# Plotting defaults\n",
    "%matplotlib inline\n",
    "import matplotlib.pyplot as plt\n",
    "plt.rcParams['font.size'] = 14.0\n",
    "plt.rcParams['figure.figsize'] = 15.0, 6.0\n",
    "\n",
    "# Helper method for scatter/beeswarm plot\n",
    "def jitter(arr):\n",
    "    stdev = .02*(max(arr)-min(arr))\n",
    "    return arr + np.random.randn(len(arr)) * stdev"
   ]
  },
  {
   "cell_type": "code",
   "execution_count": 15,
   "metadata": {},
   "outputs": [
    {
     "data": {
      "image/png": "[encoded data removed]",
      "text/plain": [
       "<Figure size 1500x600 with 1 Axes>"
      ]
     },
     "metadata": {},
     "output_type": "display_data"
    }
   ],
   "source": [
    "# Jitter so we can see instances that are projected coincident in 2D\n",
    "odd_df['jx'] = jitter(odd_df['x'])\n",
    "odd_df['jy'] = jitter(odd_df['y'])\n",
    "\n",
    "# Now use dataframe group by cluster\n",
    "cluster_groups = odd_df.groupby('cluster')\n",
    "\n",
    "# Plot the Machine Learning results\n",
    "colors = {0:'green', 1:'blue', 2:'red', 3:'orange', 4:'purple', 5:'brown'}\n",
    "fig, ax = plt.subplots()\n",
    "for key, group in cluster_groups:\n",
    "    group.plot(ax=ax, kind='scatter', x='jx', y='jy', alpha=0.5, s=250,\n",
    "               label='Cluster: {:d}'.format(key), color=colors[key])"
   ]
  },
  {
   "cell_type": "code",
   "execution_count": 16,
   "metadata": {},
   "outputs": [
    {
     "name": "stdout",
     "output_type": "stream",
     "text": [
      "\n",
      "Cluster 0: 36 observations\n",
      "                               id.resp_p proto               duration  orig_bytes   history  id.orig_p\n",
      "ts                                                                                                    \n",
      "2023-03-23 02:12:19.978599168       1099   tcp 0 days 00:00:00.012496         208  ShADadFf      47744\n",
      "2023-03-23 02:12:38.546516992       1099   tcp 0 days 00:00:00.010195         208  ShADadFf      41852\n",
      "2023-03-23 02:12:38.636475136       1099   tcp 0 days 00:02:22.223653         700  ShADadFf      41864\n",
      "2023-03-23 02:12:20.052408832       1099   tcp 0 days 00:02:40.807858         700  ShADadFf      47768\n",
      "2023-03-23 02:12:20.033457152       1099   tcp 0 days 00:02:59.838241         939  ShADadFf      57138\n",
      "\n",
      "Cluster 1: 1 observations\n",
      "                               id.resp_p proto duration  orig_bytes history  id.orig_p\n",
      "ts                                                                                    \n",
      "2023-03-23 02:31:40.939641088        502   tcp      NaT        <NA>       S      49222\n",
      "\n",
      "Cluster 2: 12 observations\n",
      "                               id.resp_p proto               duration  orig_bytes history  id.orig_p\n",
      "ts                                                                                                  \n",
      "2023-03-23 02:12:19.991163904       1099   tcp 0 days 00:00:00.000247          21   ShADa      47754\n",
      "2023-03-23 02:12:38.556737792       1099   tcp 0 days 00:00:00.000213          21   ShADa      41862\n",
      "2023-03-23 02:25:32.955319040      47754   tcp 0 days 00:00:00.002615           0    FafA       1099\n",
      "2023-03-23 02:25:32.959589120       1099   tcp 0 days 00:00:00.000047           0      Sr      37972\n",
      "2023-03-23 02:25:37.974507008      41862   tcp 0 days 00:00:00.002402           0     FfA       1099\n"
     ]
    }
   ],
   "source": [
    "# Now print out the details for each cluster\n",
    "pd.set_option('display.width', 1000)\n",
    "for key, group in cluster_groups:\n",
    "    print('\\nCluster {:d}: {:d} observations'.format(key, len(group)))\n",
    "    print(group[features].head())"
   ]
  },
  {
   "cell_type": "markdown",
   "metadata": {},
   "source": [
    "## Categorical variables that are anomalous\n",
    "- Cluster 1: duration  orig_bytes history  id.orig_p\n",
    "- Cluster 2: history\n",
    "\n",
    "## Numerical variable outliers\n",
    "- Cluster 0 and 2: The orig_bytes \n"
   ]
  },
  {
   "cell_type": "code",
   "execution_count": 17,
   "metadata": {},
   "outputs": [
    {
     "name": "stdout",
     "output_type": "stream",
     "text": [
      "\n",
      "For this log almost all orig_bytes are 0\n",
      "\n"
     ]
    },
    {
     "data": {
      "image/png": "[encoded data removed]",
      "text/plain": [
       "<Figure size 1500x600 with 1 Axes>"
      ]
     },
     "metadata": {},
     "output_type": "display_data"
    }
   ],
   "source": [
    "# Distribution of the orig_bytes length\n",
    "zeek_df[['orig_bytes']].hist()\n",
    "print('\\nFor this log almost all orig_bytes are 0\\n')"
   ]
  }
 ],
 "metadata": {
  "kernelspec": {
   "display_name": "Python 3 (ipykernel)",
   "language": "python",
   "name": "python3"
  },
  "language_info": {
   "codemirror_mode": {
    "name": "ipython",
    "version": 3
   },
   "file_extension": ".py",
   "mimetype": "text/x-python",
   "name": "python",
   "nbconvert_exporter": "python",
   "pygments_lexer": "ipython3",
   "version": "3.11.6"
  }
 },
 "nbformat": 4,
 "nbformat_minor": 2
}
